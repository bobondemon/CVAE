{
 "cells": [
  {
   "cell_type": "markdown",
   "metadata": {},
   "source": [
    "## Conditional AutoEncoder Experiments with MNIST"
   ]
  },
  {
   "cell_type": "code",
   "execution_count": 1,
   "metadata": {
    "collapsed": true
   },
   "outputs": [],
   "source": [
    "import gzip\n",
    "import os\n",
    "import tempfile\n",
    "import numpy as np\n",
    "import matplotlib.pyplot as plt\n",
    "from matplotlib import pylab\n",
    "%matplotlib inline\n",
    "import tensorflow as tf\n",
    "from tensorflow.contrib.layers import flatten\n",
    "# from tensorflow.contrib.learn.python.learn.datasets.mnist import read_data_sets\n",
    "from tensorflow.examples.tutorials.mnist import input_data\n",
    "# Shuffle arrays or sparse matrices in a consistent way\n",
    "from sklearn.utils import shuffle\n",
    "from sklearn.manifold import TSNE\n",
    "\n",
    "z_dim = 2\n",
    "outModelDir = './vae-fc-hdim{}/'.format(z_dim)"
   ]
  },
  {
   "cell_type": "markdown",
   "metadata": {},
   "source": [
    "## A. Data Loading"
   ]
  },
  {
   "cell_type": "code",
   "execution_count": 2,
   "metadata": {},
   "outputs": [
    {
     "name": "stdout",
     "output_type": "stream",
     "text": [
      "WARNING:tensorflow:From <ipython-input-2-794dc3b8b6b5>:2: read_data_sets (from tensorflow.contrib.learn.python.learn.datasets.mnist) is deprecated and will be removed in a future version.\n",
      "Instructions for updating:\n",
      "Please use alternatives such as official/mnist/dataset.py from tensorflow/models.\n",
      "WARNING:tensorflow:From C:\\Users\\bobon\\Anaconda3\\envs\\tf\\lib\\site-packages\\tensorflow\\contrib\\learn\\python\\learn\\datasets\\mnist.py:260: maybe_download (from tensorflow.contrib.learn.python.learn.datasets.base) is deprecated and will be removed in a future version.\n",
      "Instructions for updating:\n",
      "Please write your own downloading logic.\n",
      "WARNING:tensorflow:From C:\\Users\\bobon\\Anaconda3\\envs\\tf\\lib\\site-packages\\tensorflow\\contrib\\learn\\python\\learn\\datasets\\mnist.py:262: extract_images (from tensorflow.contrib.learn.python.learn.datasets.mnist) is deprecated and will be removed in a future version.\n",
      "Instructions for updating:\n",
      "Please use tf.data to implement this functionality.\n",
      "Extracting ../dataset/MNIST_data/train-images-idx3-ubyte.gz\n",
      "WARNING:tensorflow:From C:\\Users\\bobon\\Anaconda3\\envs\\tf\\lib\\site-packages\\tensorflow\\contrib\\learn\\python\\learn\\datasets\\mnist.py:267: extract_labels (from tensorflow.contrib.learn.python.learn.datasets.mnist) is deprecated and will be removed in a future version.\n",
      "Instructions for updating:\n",
      "Please use tf.data to implement this functionality.\n",
      "Extracting ../dataset/MNIST_data/train-labels-idx1-ubyte.gz\n",
      "WARNING:tensorflow:From C:\\Users\\bobon\\Anaconda3\\envs\\tf\\lib\\site-packages\\tensorflow\\contrib\\learn\\python\\learn\\datasets\\mnist.py:110: dense_to_one_hot (from tensorflow.contrib.learn.python.learn.datasets.mnist) is deprecated and will be removed in a future version.\n",
      "Instructions for updating:\n",
      "Please use tf.one_hot on tensors.\n",
      "Extracting ../dataset/MNIST_data/t10k-images-idx3-ubyte.gz\n",
      "Extracting ../dataset/MNIST_data/t10k-labels-idx1-ubyte.gz\n",
      "WARNING:tensorflow:From C:\\Users\\bobon\\Anaconda3\\envs\\tf\\lib\\site-packages\\tensorflow\\contrib\\learn\\python\\learn\\datasets\\mnist.py:290: DataSet.__init__ (from tensorflow.contrib.learn.python.learn.datasets.mnist) is deprecated and will be removed in a future version.\n",
      "Instructions for updating:\n",
      "Please use alternatives such as official/mnist/dataset.py from tensorflow/models.\n"
     ]
    }
   ],
   "source": [
    "dataPath='../dataset/MNIST_data/'\n",
    "mnist = input_data.read_data_sets(dataPath, one_hot=True)"
   ]
  },
  {
   "cell_type": "code",
   "execution_count": 3,
   "metadata": {},
   "outputs": [
    {
     "name": "stdout",
     "output_type": "stream",
     "text": [
      "Images with shape (55000, 784)\n",
      "Max value in first image = 0.9960784912109375\n",
      "Min value in first image = 0.0\n",
      "labels1Hot.shape = (55000, 10)\n"
     ]
    }
   ],
   "source": [
    "# read the images\n",
    "images = mnist.train.images\n",
    "img_num, img_dim = images.shape\n",
    "img_height,img_width = 28, 28\n",
    "print('Images with shape {}'.format(images.shape))\n",
    "print('Max value in first image = {}'.format(np.max(images[0])))\n",
    "print('Min value in first image = {}'.format(np.min(images[0])))\n",
    "# read the labels\n",
    "labels1Hot = mnist.train.labels\n",
    "print('labels1Hot.shape = {}'.format(labels1Hot.shape))\n",
    "n_classes = 10"
   ]
  },
  {
   "cell_type": "markdown",
   "metadata": {
    "collapsed": true
   },
   "source": [
    "## B. CVAE Graph Construction"
   ]
  },
  {
   "cell_type": "code",
   "execution_count": 4,
   "metadata": {
    "collapsed": true
   },
   "outputs": [],
   "source": [
    "# Hyper-parameters\n",
    "EPOCHS = 20\n",
    "BATCH_SIZE = 64\n",
    "rate = 0.0005"
   ]
  },
  {
   "cell_type": "markdown",
   "metadata": {},
   "source": [
    "### 1. Define the input tensors"
   ]
  },
  {
   "cell_type": "code",
   "execution_count": 5,
   "metadata": {
    "collapsed": true
   },
   "outputs": [],
   "source": [
    "tf.reset_default_graph()"
   ]
  },
  {
   "cell_type": "code",
   "execution_count": 6,
   "metadata": {
    "collapsed": true
   },
   "outputs": [],
   "source": [
    "x = tf.placeholder(tf.float32, (None, img_dim))\n",
    "y = tf.placeholder(tf.float32, (None, n_classes))"
   ]
  },
  {
   "cell_type": "markdown",
   "metadata": {},
   "source": [
    "### 2. Define the graph and construct it"
   ]
  },
  {
   "cell_type": "code",
   "execution_count": 7,
   "metadata": {
    "collapsed": true
   },
   "outputs": [],
   "source": [
    "init_normal = tf.contrib.layers.xavier_initializer()\n",
    "\n",
    "# Define the graph\n",
    "def Encoder(x, y):\n",
    "    intensor = tf.concat([x,y],1)\n",
    "    layer1_en = tf.matmul(intensor,\\\n",
    "                            tf.get_variable('layer1_en_w',shape=(img_dim+n_classes,512), initializer=init_normal)) + \\\n",
    "                            tf.get_variable('layer1_en_b',shape=(512))\n",
    "    layer1_en = tf.nn.softplus(layer1_en)\n",
    "\n",
    "    layer2_en = tf.matmul(layer1_en,\\\n",
    "                            tf.get_variable('layer2_en_w',shape=(512,256), initializer=init_normal)) + \\\n",
    "                            tf.get_variable('layer2_en_b',shape=(256))\n",
    "    layer2_en = tf.nn.softplus(layer2_en)\n",
    "\n",
    "    z_m = tf.matmul(layer2_en,\\\n",
    "                    tf.get_variable('z_m_w',shape=(256,z_dim), initializer=init_normal)) + \\\n",
    "                    tf.get_variable('z_m_b',shape=(z_dim))\n",
    "    z_log_sigma_sq = tf.matmul(layer2_en,\\\n",
    "                                tf.get_variable('z_log_sigma_sq_w',shape=(256,z_dim), initializer=init_normal)) + \\\n",
    "                                tf.get_variable('z_log_sigma_sq_b',shape=(z_dim))\n",
    "    # The standard deviation must be positive\n",
    "    z_log_sigma_sq = 1e-6 + tf.nn.softplus(z_log_sigma_sq)\n",
    "    \n",
    "    return z_m, z_log_sigma_sq\n",
    "\n",
    "\n",
    "def Decoder(z,y):\n",
    "    intensor = tf.concat([z,y],1)\n",
    "    layer2_de = tf.matmul(intensor,\\\n",
    "                            tf.get_variable('layer2_de_w',shape=(z_dim+n_classes,256), initializer=init_normal)) + \\\n",
    "                            tf.get_variable('layer2_de_b',shape=(256))\n",
    "    layer2_de = tf.nn.softplus(layer2_de)\n",
    "\n",
    "    layer1_de = tf.matmul(layer2_de,\\\n",
    "                            tf.get_variable('layer1_de_w',shape=(256,512), initializer=init_normal)) + \\\n",
    "                            tf.get_variable('layer1_de_b',shape=(512))\n",
    "    layer1_de = tf.nn.softplus(layer1_de)\n",
    "    \n",
    "    reconstruct = tf.matmul(layer1_de,\\\n",
    "                            tf.get_variable('reconstruct_w',shape=(512,img_dim), initializer=init_normal)) + \\\n",
    "                            tf.get_variable('reconstruct_b',shape=(img_dim))\n",
    "\n",
    "#     reconstruct = tf.nn.sigmoid(reconstruct) # This is needed for Bernoulli ML\n",
    "    return reconstruct\n",
    "\n",
    "def CVAE(x,y):    \n",
    "    z_m, z_log_sigma_sq = Encoder(x,y)\n",
    "\n",
    "    # do random sampling according to the mean and log_sigma_sq\n",
    "    bsize = tf.shape(z_m)[0]\n",
    "    eps = tf.random_normal((bsize, z_dim), 0, 1, dtype=tf.float32) # Adding a random number\n",
    "    z = tf.add(z_m, tf.multiply(tf.exp(z_log_sigma_sq/2), eps))  # The sampled z\n",
    "\n",
    "    xhat = Decoder(z,y)\n",
    "    \n",
    "    return [z_m, z_log_sigma_sq, z, xhat]\n",
    "\n",
    "[z_m, z_log_sigma_sq, z, xhat] = CVAE(x,y)"
   ]
  },
  {
   "cell_type": "markdown",
   "metadata": {},
   "source": [
    "### 3. Define loss and optimizer"
   ]
  },
  {
   "cell_type": "markdown",
   "metadata": {},
   "source": [
    "\\begin{align}\n",
    "-\\mathbb{E}_{z\\sim q}\\left[ \\log\n",
    "\\color{orange}{\n",
    "p(x|z,\\theta,\n",
    "\\color{red}{\n",
    "c\n",
    "}\n",
    ")\n",
    "}\n",
    "\\right]\n",
    "\\end{align}"
   ]
  },
  {
   "cell_type": "code",
   "execution_count": 8,
   "metadata": {
    "collapsed": true
   },
   "outputs": [],
   "source": [
    "# reconstruction loss\n",
    "reconstr_loss = tf.reduce_sum( tf.square(x-xhat) )\n",
    "# reconstr_loss = -tf.reduce_sum(x * tf.log(1e-10 + xhat) + (1-x) * tf.log(1e-10 + 1 - xhat), 1)"
   ]
  },
  {
   "cell_type": "markdown",
   "metadata": {},
   "source": [
    "\\begin{align}\n",
    "KL(\n",
    "\\color{blue}{\n",
    "q(z;\\nu\n",
    "\\color{red}{\n",
    "| c\n",
    "}\n",
    ")\n",
    "}\n",
    "\\|p(z))\n",
    "\\end{align}"
   ]
  },
  {
   "cell_type": "code",
   "execution_count": 9,
   "metadata": {
    "collapsed": true
   },
   "outputs": [],
   "source": [
    "# regularization term, KL to prior z\n",
    "kl_loss = -0.5 * tf.reduce_sum(1 + z_log_sigma_sq - tf.square(z_m) - tf.exp(z_log_sigma_sq), 1)"
   ]
  },
  {
   "cell_type": "markdown",
   "metadata": {},
   "source": [
    "ELBO loss =\n",
    "\\begin{align}\n",
    "-\\mathbb{E}_{z\\sim q}\\left[ \\log\n",
    "\\color{orange}{\n",
    "p(x|z,\\theta,\n",
    "\\color{red}{\n",
    "c\n",
    "}\n",
    ")\n",
    "}\n",
    "\\right] + KL(\n",
    "\\color{blue}{\n",
    "q(z;\\nu\n",
    "\\color{red}{\n",
    "| c\n",
    "}\n",
    ")\n",
    "}\n",
    "\\|p(z))\\\\\n",
    "\\end{align}"
   ]
  },
  {
   "cell_type": "code",
   "execution_count": 10,
   "metadata": {
    "collapsed": true
   },
   "outputs": [],
   "source": [
    "loss_op = tf.reduce_mean(reconstr_loss + kl_loss)\n",
    "optimizer = tf.train.AdamOptimizer(learning_rate = rate)\n",
    "training_op = optimizer.minimize(loss_op)"
   ]
  },
  {
   "cell_type": "markdown",
   "metadata": {},
   "source": [
    "## C. Run Session"
   ]
  },
  {
   "cell_type": "code",
   "execution_count": 11,
   "metadata": {},
   "outputs": [
    {
     "name": "stdout",
     "output_type": "stream",
     "text": [
      "Training...\n",
      "EPOCH 1: Train loss = 43.7450383175\n",
      "EPOCH 2: Train loss = 34.0133005087\n",
      "EPOCH 3: Train loss = 31.8577929707\n",
      "EPOCH 4: Train loss = 30.6686353184\n",
      "EPOCH 5: Train loss = 29.9537234816\n",
      "EPOCH 6: Train loss = 29.4104798195\n",
      "EPOCH 7: Train loss = 28.9889807790\n",
      "EPOCH 8: Train loss = 28.6064581705\n",
      "EPOCH 9: Train loss = 28.3221921998\n",
      "EPOCH 10: Train loss = 28.0534894943\n",
      "EPOCH 11: Train loss = 27.8313225269\n",
      "EPOCH 12: Train loss = 27.6747440438\n",
      "EPOCH 13: Train loss = 27.5398449177\n",
      "EPOCH 14: Train loss = 27.4000627329\n",
      "EPOCH 15: Train loss = 27.3005162627\n",
      "EPOCH 16: Train loss = 27.2161412494\n",
      "EPOCH 17: Train loss = 27.1308291868\n",
      "EPOCH 18: Train loss = 27.0291567193\n",
      "EPOCH 19: Train loss = 26.9681781824\n",
      "EPOCH 20: Train loss = 26.8816315307\n",
      "Model saved\n"
     ]
    },
    {
     "data": {
      "image/png": "[encoded data removed]",
      "text/plain": [
       "<Figure size 504x360 with 1 Axes>"
      ]
     },
     "metadata": {
      "needs_background": "light"
     },
     "output_type": "display_data"
    }
   ],
   "source": [
    "if not os.path.isdir(outModelDir):\n",
    "    ### Train your model here.\n",
    "    # mini-batch Adam training, will save model\n",
    "    if not os.path.isdir(outModelDir):\n",
    "        os.makedirs(outModelDir)\n",
    "    saver = tf.train.Saver()\n",
    "    with tf.Session() as sess:\n",
    "        sess.run(tf.global_variables_initializer())\n",
    "        num_examples = img_num\n",
    "        \n",
    "        print(\"Training...\")\n",
    "        train_loss = np.zeros(EPOCHS)\n",
    "        for i in range(EPOCHS):\n",
    "            acc_train_loss = 0\n",
    "            images_train, labels_train = shuffle(images, labels1Hot)\n",
    "            for offset in range(0, num_examples, BATCH_SIZE):\n",
    "                end = offset + BATCH_SIZE\n",
    "                batch_img, batch_label = images_train[offset:end], labels_train[offset:end]\n",
    "                _, l = sess.run([training_op, loss_op], feed_dict={x: batch_img, y: batch_label})\n",
    "                acc_train_loss += l/BATCH_SIZE\n",
    "            train_loss[i] = acc_train_loss/len(range(0, num_examples, BATCH_SIZE))\n",
    "            print(\"EPOCH {}: Train loss = {:.10f}\".format(i+1,train_loss[i]))\n",
    "        saver.save(sess, outModelDir+'mnist-fc-vae-model')\n",
    "        print(\"Model saved\")\n",
    "\n",
    "    # Plot loss\n",
    "    plt.figure(figsize=(7,5))\n",
    "    plt.plot(range(EPOCHS), train_loss, 'b-^')\n",
    "    plt.ylabel('Loss')\n",
    "    plt.xlabel('Epochs')\n",
    "    plt.axis('tight')\n",
    "    plt.grid()\n",
    "    plt.title('loss for epochs')\n",
    "    plt.show()"
   ]
  },
  {
   "cell_type": "markdown",
   "metadata": {},
   "source": [
    "## D. Show some reconstructed images"
   ]
  },
  {
   "cell_type": "code",
   "execution_count": 12,
   "metadata": {},
   "outputs": [
    {
     "name": "stdout",
     "output_type": "stream",
     "text": [
      "INFO:tensorflow:Restoring parameters from ./vae-fc-hdim2/mnist-fc-vae-model\n"
     ]
    },
    {
     "data": {
      "image/png": "[encoded data removed]",
      "text/plain": [
       "<Figure size 1080x360 with 14 Axes>"
      ]
     },
     "metadata": {
      "needs_background": "light"
     },
     "output_type": "display_data"
    }
   ],
   "source": [
    "# Reduce number of images and labels\n",
    "im = images[::10]\n",
    "l1hot = labels1Hot[::10]\n",
    "\n",
    "saver = tf.train.Saver()\n",
    "with tf.Session() as sess:\n",
    "    saver.restore(sess, tf.train.latest_checkpoint(outModelDir))\n",
    "    [embeddings, recon] = sess.run([z,xhat], feed_dict={x: im, y:l1hot})\n",
    "\n",
    "# Show some reconstructed images\n",
    "plt.figure(figsize=(15,5))\n",
    "plt.suptitle('Show some reconstruct images', fontsize=16)\n",
    "for i in np.arange(2*7):\n",
    "    random_idx = np.random.randint(0,len(recon))\n",
    "    plt.subplot(2,7,i+1)\n",
    "    plt.imshow(np.reshape(recon[random_idx],(28,28)),cmap='gray')\n",
    "plt.show()"
   ]
  },
  {
   "cell_type": "markdown",
   "metadata": {},
   "source": [
    "## E. Plot Embeddings and Generate Conditioning Images"
   ]
  },
  {
   "cell_type": "markdown",
   "metadata": {},
   "source": [
    "### 1. Plot tSNE Embeddings"
   ]
  },
  {
   "cell_type": "code",
   "execution_count": null,
   "metadata": {},
   "outputs": [],
   "source": [
    "# TSNE: http://scikit-learn.org/stable/modules/generated/sklearn.manifold.TSNE.html\n",
    "if (z_dim>2):\n",
    "    embeddings_2d = TSNE(n_components=2).fit_transform(embeddings)\n",
    "    print('output embeddings_2d.shape={}'.format(embeddings_2d.shape))\n",
    "else:\n",
    "    embeddings_2d = embeddings\n",
    "\n",
    "# dot colors\n",
    "cmap=list()\n",
    "for i in np.arange(n_classes):\n",
    "    cmap.append(np.random.rand(1,3))\n",
    "\n",
    "permute_idx = np.random.permutation(n_classes)\n",
    "cmap = [cmap[i] for i in permute_idx]\n",
    "\n",
    "pylab.figure(figsize=(7,7))\n",
    "for i in np.arange(0,len(embeddings),5):\n",
    "    plotx, ploty = (embeddings_2d[i,0],embeddings_2d[i,1])\n",
    "    pylab.scatter(plotx,ploty,c=cmap[np.argmax(labels1Hot[i])])\n",
    "pylab.show()"
   ]
  },
  {
   "cell_type": "markdown",
   "metadata": {},
   "source": [
    "### 2. Do Image Generation (conditioned on class label) by Decoder"
   ]
  },
  {
   "cell_type": "code",
   "execution_count": null,
   "metadata": {},
   "outputs": [],
   "source": [
    "if (z_dim==2):\n",
    "    codes = list()\n",
    "    for xdim in np.linspace(-10, 10, num=4):\n",
    "        for ydim in np.linspace(-10, 10, num=4):\n",
    "            codes.append([xdim,ydim])\n",
    "    num_example_per_class = len(codes)\n",
    "\n",
    "    sampled_img = []\n",
    "    saver = tf.train.Saver()\n",
    "    with tf.Session() as sess:\n",
    "        saver.restore(sess, tf.train.latest_checkpoint(outModelDir))\n",
    "        for cidx in range(n_classes):\n",
    "            class_1hot = np.zeros([len(codes),n_classes])\n",
    "            class_1hot[:,cidx] = 1.0\n",
    "            sampled_img.append(sess.run(xhat,feed_dict={z:codes, y:class_1hot}))\n",
    "\n",
    "    plt.figure(figsize=(25,25))\n",
    "#     plt.suptitle('Generated by decoder', fontsize=16)\n",
    "    for cidx in range(n_classes):\n",
    "        for idx in range(num_example_per_class):\n",
    "            plt.subplot(n_classes,num_example_per_class,cidx*num_example_per_class+idx+1)\n",
    "            plt.title('p(x|z,\\'{}\\')'.format(cidx))\n",
    "            plt.imshow(np.reshape(sampled_img[cidx][idx],(28,28)),cmap='gray')\n",
    "    plt.show()"
   ]
  },
  {
   "cell_type": "markdown",
   "metadata": {},
   "source": [
    "### 3. Let's do some interesting *conditioning*\n",
    "\n",
    "Try conditioned on **both '0' and '4'**"
   ]
  },
  {
   "cell_type": "code",
   "execution_count": null,
   "metadata": {},
   "outputs": [],
   "source": [
    "if (z_dim==2):\n",
    "    codes = list()\n",
    "    for xdim in np.linspace(-10, 10, num=4):\n",
    "        for ydim in np.linspace(-10, 10, num=4):\n",
    "            codes.append([xdim,ydim])\n",
    "    num_example_per_class = len(codes)\n",
    "\n",
    "    sampled_img = []\n",
    "    saver = tf.train.Saver()\n",
    "    with tf.Session() as sess:\n",
    "        saver.restore(sess, tf.train.latest_checkpoint(outModelDir))\n",
    "        cond = np.zeros([len(codes),n_classes])\n",
    "        cond[:,0] = 1.0\n",
    "        cond[:,4] = 1.0\n",
    "        sampled_img = sess.run(xhat,feed_dict={z:codes, y:cond})\n",
    "    assert(len(sampled_img)==num_example_per_class)\n",
    "    plt.figure(figsize=(15,5))\n",
    "    plt.suptitle('Generated by decoder', fontsize=16)\n",
    "    for idx in range(num_example_per_class):\n",
    "        plt.subplot(2,8,idx+1)\n",
    "        plt.title('p(x|z,\\'0 and 4\\')')\n",
    "        plt.imshow(np.reshape(sampled_img[idx],(28,28)),cmap='gray')\n",
    "    plt.show()"
   ]
  },
  {
   "cell_type": "markdown",
   "metadata": {},
   "source": [
    "Try conditioned on **both '1' and '3'**"
   ]
  },
  {
   "cell_type": "code",
   "execution_count": null,
   "metadata": {},
   "outputs": [],
   "source": [
    "if (z_dim==2):\n",
    "    codes = list()\n",
    "    for xdim in np.linspace(-10, 10, num=4):\n",
    "        for ydim in np.linspace(-10, 10, num=4):\n",
    "            codes.append([xdim,ydim])\n",
    "    num_example_per_class = len(codes)\n",
    "\n",
    "    sampled_img = []\n",
    "    saver = tf.train.Saver()\n",
    "    with tf.Session() as sess:\n",
    "        saver.restore(sess, tf.train.latest_checkpoint(outModelDir))\n",
    "        cond = np.zeros([len(codes),n_classes])\n",
    "        cond[:,1] = 1.0\n",
    "        cond[:,3] = 1.0\n",
    "        sampled_img = sess.run(xhat,feed_dict={z:codes, y:cond})\n",
    "    assert(len(sampled_img)==num_example_per_class)\n",
    "    plt.figure(figsize=(15,5))\n",
    "    plt.suptitle('Generated by decoder', fontsize=16)\n",
    "    for idx in range(num_example_per_class):\n",
    "        plt.subplot(2,8,idx+1)\n",
    "        plt.title('p(x|z,\\'1 and 3\\')')\n",
    "        plt.imshow(np.reshape(sampled_img[idx],(28,28)),cmap='gray')\n",
    "    plt.show()"
   ]
  },
  {
   "cell_type": "markdown",
   "metadata": {},
   "source": [
    "See what happens when conditioning values are **from 0.1 (weak) to 1.0 (strong)**"
   ]
  },
  {
   "cell_type": "code",
   "execution_count": null,
   "metadata": {},
   "outputs": [],
   "source": [
    "if (z_dim==2):\n",
    "    code = [[0.0, 0.0]]\n",
    "    conds = np.linspace(0.1, 1.0, num=16)\n",
    "    sampled_img = []\n",
    "    saver = tf.train.Saver()\n",
    "    with tf.Session() as sess:\n",
    "        saver.restore(sess, tf.train.latest_checkpoint(outModelDir))\n",
    "        for i in range(len(codes)):\n",
    "            cond = np.zeros([1,n_classes])\n",
    "            cond[:,4] = 1.0*conds[i]\n",
    "            sampled_img.append(sess.run(xhat,feed_dict={z:code, y:cond}))\n",
    "    plt.figure(figsize=(15,5))\n",
    "    plt.suptitle('Generated by decoder', fontsize=16)\n",
    "    for idx in range(num_example_per_class):\n",
    "        plt.subplot(2,8,idx+1)\n",
    "        plt.title('cond={:.2f}'.format(conds[idx]))\n",
    "        plt.imshow(np.reshape(sampled_img[idx],(28,28)),cmap='gray')\n",
    "    plt.show()"
   ]
  }
 ],
 "metadata": {
  "kernelspec": {
   "display_name": "Python 3",
   "language": "python",
   "name": "python3"
  },
  "language_info": {
   "codemirror_mode": {
    "name": "ipython",
    "version": 3
   },
   "file_extension": ".py",
   "mimetype": "text/x-python",
   "name": "python",
   "nbconvert_exporter": "python",
   "pygments_lexer": "ipython3",
   "version": "3.5.4"
  }
 },
 "nbformat": 4,
 "nbformat_minor": 2
}
